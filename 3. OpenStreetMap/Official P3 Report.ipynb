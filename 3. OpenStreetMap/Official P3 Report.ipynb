{
 "cells": [
  {
   "cell_type": "markdown",
   "metadata": {},
   "source": [
    "# OpenStreetMap Data Case Study"
   ]
  },
  {
   "cell_type": "markdown",
   "metadata": {},
   "source": [
    "## Map Area:\n",
    "### Manchester, England\n",
    " - http://www.openstreetmap.org/relation/146656#map=11/53.4427/-2.2337\n",
    " - https://mapzen.com/data/metro-extracts/#manchester-england\n",
    " - http://www.openstreetmap.org/export#map=11/53.4427/-2.2337\n",
    " \n",
    " \n",
    "I choose Manchester because this is home for me. I am also interested in learning what's changed and interesting things I hadn't known before.\n"
   ]
  },
  {
   "cell_type": "markdown",
   "metadata": {},
   "source": [
    "### Map Exploration"
   ]
  },
  {
   "cell_type": "code",
   "execution_count": 2,
   "metadata": {
    "collapsed": true
   },
   "outputs": [],
   "source": [
    "# Iterative Parsing"
   ]
  },
  {
   "cell_type": "code",
   "execution_count": null,
   "metadata": {
    "collapsed": false
   },
   "outputs": [],
   "source": [
    "# Sample Result: \n",
    "# Full Result\n",
    "{'bounds': 1,\n",
    " 'member': 27148,\n",
    " 'nd': 1758747,\n",
    " 'node': 1421700,\n",
    " 'osm': 1,\n",
    " 'relation': 2203,\n",
    " 'tag': 805691,\n",
    " 'way': 201946}"
   ]
  },
  {
   "cell_type": "code",
   "execution_count": null,
   "metadata": {
    "collapsed": true
   },
   "outputs": [],
   "source": [
    "# Check tags"
   ]
  },
  {
   "cell_type": "code",
   "execution_count": 29,
   "metadata": {
    "collapsed": false
   },
   "outputs": [
    {
     "name": "stdout",
     "output_type": "stream",
     "text": [
      "Non-errors: 122225 | Errors: 683466\n"
     ]
    },
    {
     "data": {
      "text/plain": [
       "5"
      ]
     },
     "execution_count": 29,
     "metadata": {},
     "output_type": "execute_result"
    }
   ],
   "source": [
    "# tag issues\n",
    "manchester_england = {'higher': 280,\n",
    "                         'lower': 608844,\n",
    "                         'lower_colon': 74340,\n",
    "                         'naptan': 135348,\n",
    "                         'other': 769,\n",
    "                         'problemchars': 2}\n",
    "\n",
    "# Non-errors: 122225 | Errors 683466\n",
    "683466/122225\n",
    "# 5"
   ]
  },
  {
   "cell_type": "code",
   "execution_count": null,
   "metadata": {
    "collapsed": true
   },
   "outputs": [],
   "source": [
    "# Exploring Users"
   ]
  },
  {
   "cell_type": "code",
   "execution_count": null,
   "metadata": {
    "collapsed": true
   },
   "outputs": [],
   "source": [
    "283  Users - Sample\n",
    "1919 Users - Full"
   ]
  },
  {
   "cell_type": "markdown",
   "metadata": {},
   "source": [
    "## Problems Encountered in the Map\n",
    "\n",
    "- Short Street Name Suffixes \n",
    "- Binary options mixed with categorical variables (i.e. Yes, No, Loony)\n",
    "- Naptan Imported keys - Data imported where source is equal to:naptan_import prefixes it's attributes with naptan:CommonName\n"
   ]
  },
  {
   "cell_type": "markdown",
   "metadata": {},
   "source": [
    "### Short Street Names\n",
    "\n",
    "I used the original update_name method, which used the dictionary mappy strategy to find specific patterns within strings using regex and replacing with more consistent values across the data set. I added in some very common British street abbreviations with their respective normal forms to the dictonary for replacement:\n",
    "\n",
    "\"RD\": \"Road\"\n",
    "\"Pk\": \"Park\"\n",
    "\"Gr\": \"Grove\"\n",
    "\"Gn\": \"Green\"\n",
    "\n",
    "\n",
    "This included changes like Q-Park Deansgate North Pk to Q-Park Deansgate North Park. This process covered many inconsistent values in the data to make it more consistent across the map. "
   ]
  },
  {
   "cell_type": "markdown",
   "metadata": {
    "collapsed": true
   },
   "source": [
    "### Binary Mixed With Categorical Variables\n",
    "The options for bicycles lanes could be any of the following:\n",
    "    \n",
    " [u'yes', u'no', u'permissive', u'designated', u'dismount',\n",
    " u'destination', u'permissive or not at all!', u'private',\n",
    " u'loony_only']\n",
    " \n",
    "After reviewing the options, I first thought that I could place each of the categorical variables within the binary ones, that may be helpful to an analysis but less helpful if I wanted to understand the particularities of bike lane rules. \n",
    "\n",
    "So a better change to me would be to turn the binary variables into categorical ones.\n",
    "\n",
    "Yes -> Full_access\n",
    "No -> No Access\n",
    "\n",
    "This would also allow newcomes to specify better rather than having to choose between the overlap between the binary and categorical variables.\n",
    "\n",
    "\n",
    "\n",
    "\n",
    "\n"
   ]
  },
  {
   "cell_type": "code",
   "execution_count": null,
   "metadata": {
    "collapsed": true
   },
   "outputs": [],
   "source": [
    "    if tag.attrib['k'] == 'bicycle':\n",
    "        if tag.attrib['v'] == 'yes':\n",
    "            tag.attrib['v'] == 'full access'\n",
    "    if tag.attrib['v'] == 'no':\n",
    "        tag.attrib['v'] == 'no access'"
   ]
  },
  {
   "cell_type": "code",
   "execution_count": null,
   "metadata": {
    "collapsed": true
   },
   "outputs": [],
   "source": [
    "# Before\n",
    "\n",
    "\tloony_only\t1\n",
    "\tpermissive or not at all!\t1\n",
    "\tdestination\t4\n",
    "\tprivate\t44\n",
    "\tdismount\t56\n",
    "\tpermissive\t174\n",
    "\tdesignated\t346\n",
    "\tno\t889\n",
    "\tyes\t2357"
   ]
  },
  {
   "cell_type": "code",
   "execution_count": null,
   "metadata": {
    "collapsed": true
   },
   "outputs": [],
   "source": [
    "# After\n",
    "loony_only\t1\n",
    "1\tpermissive or not at all!\t1\n",
    "2\tdestination\t4\n",
    "3\tprivate\t44\n",
    "4\tdismount\t56\n",
    "5\tpermissive\t174\n",
    "6\tdesignated\t346\n",
    "7\tno_access\t889\n",
    "8\tfull_access\t2357\n"
   ]
  },
  {
   "cell_type": "markdown",
   "metadata": {
    "collapsed": true
   },
   "source": [
    "### Naptan Import"
   ]
  },
  {
   "cell_type": "markdown",
   "metadata": {
    "collapsed": true
   },
   "source": [
    "##### After scanning over the tags, I found naptan prefixed tags that were followed by common fields like street that wouldn't work well without adding complexity to the query, so I choose to look at naptan prefixed tags only and compare them alongside addr based prefixes which seems standard:\n",
    "\n",
    "{'k': 'naptan:ShortCommonName', 'v': 'Hockley PO'}\n",
    "{'k': 'name', 'v': 'Willow Close'}\n",
    "{'k': 'source', 'v': 'naptan_import'}\n",
    "{'k': 'highway', 'v': 'bus_stop'}\n",
    "{'k': 'naptan:Street', 'v': 'Park Lane'}\n",
    "{'k': 'naptan:Bearing', 'v': 'W'}\n",
    "{'k': 'naptan:AtcoCode', 'v': '0600MA0495'}\n",
    "{'k': 'naptan:Crossing', 'v': 'Willow Close'}\n",
    "{'k': 'naptan:Landmark', 'v': 'House number 191'}\n",
    "{'k': 'naptan:verified', 'v': 'no'}\n",
    "{'k': 'naptan:Indicator', 'v': 'W-bound'}\n",
    "{'k': 'naptan:CommonName', 'v': 'Willow Close'}\n",
    "{'k': 'naptan:NaptanCode', 'v': 'chepawa'}\n",
    "{'k': 'naptan:ShortCommonName', 'v': 'Willow Close'}\n",
    "\n",
    "##### And I compared it to one of the typical cases\n",
    "\n",
    "{'k': 'addr:city', 'v': 'Whaley Bridge'}\n",
    "{'k': 'dispensing', 'v': 'yes'}\n",
    "{'k': 'addr:street', 'v': 'Market Street'}\n",
    "{'k': 'addr:postcode', 'v': 'SK23 7LP'}\n",
    "{'k': 'addr:housenumber', 'v': '40'}\n",
    "        \n",
    "        \n",
    "##### I used a regular expression to match 'naptan:'\n",
    "^([naptan]|_)*:\n",
    "    \n",
    "##### After adding in a count of all the tags that have the naptan prefix it's substantial: \n",
    "\n",
    "'naptan': 135348    \n",
    "\n",
    "##### Since the prefix keys don't all have direct matches, I've tried to find the most reliable and relatable key names to rename, thus far address is the most consistent.\n",
    "\n",
    "{'k': 'naptan:Street', 'v': 'Park Lane'}\n",
    "##### should become\n",
    "{'k': 'addr:street', 'v': 'Park Lane'}\n",
    "\n",
    "13292 naptan:Street tags\n",
    "7212 addr:street tags\n",
    "    \n",
    "##### This surprised me since I assumed the latter key was of the majority.\n",
    "\n",
    "\n",
    "##### After checking through the other naptan tags like bearing, atcocode, I discovered the other keys weren't directly transferable into the addr keys except the street key.\n",
    "######(i.e. Landmark values,  ('House number 191', 'ICL', 'Fenner Sales'))\n",
    "\n",
    "#### SO I decided to replace all naptan:Street so that any further Street based dataanalysis would take in the 13292 values that may have slipped through otherwise.\n",
    "\n",
    "##### I added 'naptan:Street' in 3 different places \n",
    "- 1. In the key_type function to count how many instances there were.\n",
    "- 2. In the improving street names section to ensure that it received preprocessing.\n",
    "- 3. In the database import section where I replaced the default tag 'naptan:Street' to 'addr:street'\n",
    "\n",
    "#### This resulted in a substantial change in number of total addresses:\n",
    "###### From 71212 to 20503\n",
    "        \n"
   ]
  },
  {
   "cell_type": "markdown",
   "metadata": {},
   "source": [
    "- I had quite a few errors in my code, mostly none type issues. Added type checking before appending to dict or list\n"
   ]
  },
  {
   "cell_type": "code",
   "execution_count": 37,
   "metadata": {
    "collapsed": true
   },
   "outputs": [],
   "source": [
    "# Now to import the db"
   ]
  },
  {
   "cell_type": "markdown",
   "metadata": {},
   "source": [
    "# Data Overview and Additional Ideas\n",
    "\n",
    "After converting the map data into csv's based on the provided schema, \n",
    "here are the results:"
   ]
  },
  {
   "cell_type": "markdown",
   "metadata": {
    "collapsed": true
   },
   "source": [
    " #### File Sizes\n",
    "    ______________________________\n",
    "    |                             |\n",
    "    |- nodes_tags.csv | (11.3Mb)  |\n",
    "    |- nodes.csv      | (115.3Mb) |\n",
    "    |- ways_tags.csv  | (18Mb)    |\n",
    "    |- ways.csv       | (11.8Mb)  |\n",
    "    |                             |\n",
    "    |- man_eng.osm    | (318Mb)   |\n",
    "    |- manchester.db  | (225.6Mb) |\n",
    "    |_____________________________|\n",
    "    \n",
    "    \n",
    "    \n",
    "#### Number of Nodes\n",
    "nn = SELECT COUNT(*) FROM node;\n",
    "#### Number of ways\n",
    "nw = SELECT COUNT(*) FROM way;\n",
    "#### Number of users\n",
    "nu = SELECT COUNT(DISTINCT(e.uid)) FROM (SELECT uid FROM nodes UNION ALL SELECT uid FROM ways) e;\n",
    "#### Number of node tags\n",
    "nnt = 'SELECT COUNT(*) FROM node_tags'\n",
    "#### Number of way tags\n",
    "nwt = 'SELECT COUNT(*) FROM way_tags'\n",
    "     _____________________________\n",
    "    |                             |\n",
    "    |- Number of Users | 1899     |\n",
    "    |- Number of Nodes | 1421701  |\n",
    "    |- Number of ways  | 201947   |\n",
    "    |- Number of Tags  | 796322   |\n",
    "    |- - Nodes         | 290902   |\n",
    "    |- - Ways          | 505420   |\n",
    "     _____________________________\n",
    "\n"
   ]
  },
  {
   "cell_type": "markdown",
   "metadata": {},
   "source": [
    "### Top 10 most common node_tags\n",
    "- created_by\t38485\n",
    "- name\t        22294\n",
    "- highway\t    18903\n",
    "- source\t    17875\n",
    "- AtcoCode\t    13404\n",
    "- CommonName\t13291\n",
    "- Street\t    13291\n",
    "- verified\t    13286\n",
    "- Indicator\t    13280\n",
    "- Landmark\t    13164\n",
    "\n",
    "### Top 10 most common way_tags\n",
    "\n",
    "- created_by\t38485\n",
    "- name\t        22294\n",
    "- highway\t    18903\n",
    "- source\t    17875\n",
    "- AtcoCode\t    13404\n",
    "- CommonName\t13291\n",
    "- Street\t    13291\n",
    "- verified\t    13286\n",
    "- Indicator\t    13280\n",
    "- Landmark\t    13164\n"
   ]
  },
  {
   "cell_type": "markdown",
   "metadata": {
    "collapsed": true
   },
   "source": [
    "## Religion\n",
    "\n",
    "#### Node_Tags\n",
    "\n",
    "- 0\treligion\tchristian\t321\n",
    "- 1\treligion\tmuslim\t16\n",
    "- 2\treligion\tjewish\t6\n",
    "- 3\treligion\tbuddhist\t2\n",
    "- 4\treligion\thindu\t1\n",
    "- 5\treligion\tscientologist\t1\n",
    "- 6\treligion\tsikh\t1\n",
    " \n",
    "#### Way Tags\n",
    "\n",
    "- 0\treligion\tchristian\t282\n",
    "- 1\treligion\tmuslim\t9\n",
    "- 2\treligion\tjewish\t6\n",
    "- 3\treligion\tbuddhist\t1\n",
    "- 4\treligion\thindu\t1\n",
    "\n",
    "<img src=\"files/images/religion_pie_chart.png\" />\n"
   ]
  },
  {
   "cell_type": "markdown",
   "metadata": {},
   "source": [
    "\n",
    "### Bicycle Lanes\n",
    "\n",
    "I also looked at bicycle lanes. \n",
    "I've added the possible values below. As you can tell there are some unique\n",
    "values such as 'loony_only' and I'm unsure of the operational defintion but it seems\n",
    "to be a sort of joke but not helpful as it's too unique for the overall data.\n",
    "\n",
    "We might want to categorise these options with a second option field. \n",
    "Yes and No at the highest level and then an option second attribute\n",
    "which says the type of yes. \n",
    "\n",
    "- Possible Values:\n",
    "    [u'yes', u'no', u'permissive', u'designated', u'dismount',\n",
    "       u'destination', u'permissive or not at all!', u'private',\n",
    "       u'loony_only']\n",
    "       \n",
    "#### Bicycle Stats      \n",
    "- loony_only\t                1\n",
    "- permissive or not at all!\t    1\n",
    "- destination\t                4\n",
    "- private\t                   44\n",
    "- dismount\t                   56\n",
    "- permissive\t              174\n",
    "- designated\t              346\n",
    "- no\t                      889\n",
    "- yes\t                     2357\n",
    "\n",
    "\n",
    "##### SQL CODE\n",
    "'SELECT value, count(*) as num FROM way_tags WHERE key = \"bicycle\" Group By value Order by num ;"
   ]
  },
  {
   "cell_type": "markdown",
   "metadata": {},
   "source": [
    "## FOOD!\n",
    "\n",
    "- 0\tchinese\t131\n",
    "- 1\tindian\t90\n",
    "- 2\tfish_and_chips\t88\n",
    "- 3\tpizza\t75\n",
    "- 4\tcoffee_shop\t61\n",
    "- 5\tsandwich\t55\n",
    "\n",
    "Apparently Chinese food is listed as most popular, followed by Indian, then Fish & Chips. This surprises me because I remember Indian food being the most popular, most notably the infamous Curry Mile. \n",
    "\n",
    "There are quite a few problems in this part of the dataset as well,\n",
    "such as the use of semi-colons, commas and colons to delineate multiple cuisines. \n",
    "\n",
    "The fix here is to add a regex pattern that looks for these three values: ;,: \n",
    "Then to use the regex as a parameter on the split function.\n",
    "(i.e. pizza;Burger;Fish_&_Chips;Kebab )"
   ]
  },
  {
   "cell_type": "markdown",
   "metadata": {},
   "source": [
    "## Amenities\n",
    "\n",
    "amenity = 'SELECT value, count(*) as num FROM node_tags WHERE key=\"amenity\" GROUP BY value ORDER BY num DESC;'\n",
    "\n",
    "- pub\t            1270\n",
    "- post_box\t        936\n",
    "- place_of_worship\t575\n",
    "- fast_food\t        571\n",
    "- bench\t            478\n",
    "\n",
    "\n",
    "As you can see, there aren't a lack of pubs in Manchester as could be said for much more of England. What is surprising is that there are more places of worship than there are fast food according to the dataset. "
   ]
  },
  {
   "cell_type": "code",
   "execution_count": null,
   "metadata": {
    "collapsed": true
   },
   "outputs": [],
   "source": []
  },
  {
   "cell_type": "markdown",
   "metadata": {},
   "source": [
    "## Additional Ideas\n",
    "\n",
    "\n",
    "### Mixed Cuisine\n",
    "I am interested in looking at different restaurants that combine cuisines  in one place across different areas at the city and country level. In this case, we would just need to split by \":\" and figure out each type of food combination. There were only a few in the dataset I looked at but I'd be interested in seeing what combinations are most/least popular (i.e. chinese:fish_chips)"
   ]
  },
  {
   "cell_type": "markdown",
   "metadata": {},
   "source": [
    "###### Improving the Dataset \n",
    "\n",
    "In someways OSM reminds me of the Waze app, but it lacks a public community, it feels as if it isn't obvious what one should do to contribute without diving into the docs. OSM has many quirks(like the label \"only loony's would ride bikes here\" that can be found in this dataset) and they vary from city to city, so I'd be interested in expanding on the locality of the maps. By keeping a standard map that is cross referenced with other map technology (google maps/bing) and customised maps which users can add to for whatever the reason may be. A map for a pub run, a Mini Cooper's map that highlights all of the points in an city/area that contains windy turns or less stop lights. THese maps could add gamification by allowing users to setup goals such as the \"Liverpudlian Pub Run\". This is a bit like FourSquare but instead think custom maps that can be privatised and membership controlled in an open source way. Not unlike a forum. Imagine that the \"loony\" bike lanes becomes a map for those who love to do bmx, or paths for parkour. I think we have map technology that is much more accurate than OSM and if that is OSM's goal then I don't see a users needs being met better than Google/Bing. \n",
    "Go custom, localised, particular. Maps for friends, maps for family. Maps that tell the secrets of a city. Now that's exciting.   \n",
    "\n",
    "I'd also like to discuss some major issues that I could forsee with the advent of this technology.\n",
    "\n",
    "\n",
    "-Data Reliablity\n",
    "Because we would be using Google/Bing based API's we'd be also relying on Google/BIng as dependcies for the map itself. Data fetching in an async way has been one of the most common problems in web technology today, so we'd be placing ourselves at the centre of it. If we choose to set up webhook like updates and live update the map we run into problems with some people seeing an updated map and others seeing an older one. Because api requests are limited, limited in how many requests you can make and not 100% uptime, we would be subject to latency and availability issues. In the middle of updating a map we could stop getting data which would upend the data quality. We would have to build a system that has redundancy built in and the ability to roll back or refetch when we cannot finish an api or db transaction. This introduces another possible fault point that is unavoidable in developing this types of systems.\n",
    "\n",
    "-Data integrity\n",
    "No matter how we implement the system we are adding complexity to the system which means the database and it's transactions will have to be remodelled and ultimately it will change the way the data is used. By cross referencing Google/Bing maps technology, we have to consider how OSM will *weight* user generated content as opposed to external map sources. The data will become much more complex as it brings in data from it's existing user base (user contribution and bots) and extend it to api's which might require reshaping the data to fit OSM's. Since OSM is committed to user contributions then we might consider keeping user contributed data as the primary source of truth and updates from external technology could be approved by users of OSM. IF we assume external sources are more accurate than OSM's then we place a heavier weight on the external sources and the data model should reflect that. \n",
    "\n",
    "Customised Map\n",
    "- How might updates cascade? \n",
    "Upon introducing the customised map feature we would be adding in facades or building data layers on top of the foundational map that OSM provides. As the underlying map changes, the references within the customised maps must also change. Keeping customised maps up to date involves running into the same issues I've talked about above. Some potentially new issues are as follows:\n",
    "\n",
    "Customised maps will \n",
    "- introduce complexity to the user access system.\n",
    "- store duplicate data (map data or references)\n",
    "\n",
    "This also means that if the 'foundational' OSM map is updated that it must cascade to the customised maps as well. FOr any given point on the foundational map, there are possibly 1000's of references to it within  the customised maps and they are absolutely dependent on these references so all of the customised maps \"become incomplete\" as they were made to include this reference. If this reference point is updated, all should be well. But if it is moved or deleted, the maps are at risk at being useless or at least losing the completeness they had when they were created. \n",
    "\n",
    "\n",
    " \n"
   ]
  },
  {
   "cell_type": "markdown",
   "metadata": {},
   "source": [
    "### Conclusion"
   ]
  },
  {
   "cell_type": "markdown",
   "metadata": {
    "collapsed": false
   },
   "source": [
    "After weaving through the dataset, I was able to find some interesting data that intrigued me to dig deeper and investigate the OSM data further. There was quite a few errors and the data required extensive cleaning, much more than what could be done here. But I guess this is the nature of open source street maps, that being said there are also beautiful particularities about the data such as bike lanes marked \"only looneys\" and other unique entires that seem to form and sometimes other support it, giving the data more reliability."
   ]
  }
 ],
 "metadata": {
  "kernelspec": {
   "display_name": "Python 2",
   "language": "python",
   "name": "python2"
  },
  "language_info": {
   "codemirror_mode": {
    "name": "ipython",
    "version": 2
   },
   "file_extension": ".py",
   "mimetype": "text/x-python",
   "name": "python",
   "nbconvert_exporter": "python",
   "pygments_lexer": "ipython2",
   "version": "2.7.11"
  }
 },
 "nbformat": 4,
 "nbformat_minor": 0
}
